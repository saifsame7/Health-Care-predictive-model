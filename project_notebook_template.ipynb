{
  "cells": [
    {
      "cell_type": "markdown",
      "metadata": {
        "id": "view-in-github",
        "colab_type": "text"
      },
      "source": [
        "<a href=\"https://colab.research.google.com/github/saifsame7/Health-Care-predictive-model/blob/main/project_notebook_template.ipynb\" target=\"_parent\"><img src=\"https://colab.research.google.com/assets/colab-badge.svg\" alt=\"Open In Colab\"/></a>"
      ]
    },
    {
      "cell_type": "markdown",
      "metadata": {
        "id": "LB8gFpVBxl5B"
      },
      "source": [
        "# Data Science Project Workflow\n",
        "\n",
        "## Project Overview\n",
        "- **Objective**: Define the problem and goals of the project.\n",
        "- **Milestones**: Data Collection, Exploration, Preprocessing, Advanced Analysis, Model Development, Deployment, and Final Documentation.\n",
        "\n",
        "---"
      ]
    },
    {
      "cell_type": "markdown",
      "metadata": {
        "id": "1WVF47SQxl5E"
      },
      "source": [
        "# Team Information\n",
        "\n",
        "## Team Members\n",
        "- **Name**: saif sameh mohamed  \n",
        "  **Email**: saif.elsanafery@gmail.com\n",
        "  \n",
        "  **Role**: Data Scientist\n",
        "\n",
        "- **Name**: Nada Mohamed Gamal  \n",
        "  **Email**: nadagamal.ng33@gmail.com  \n",
        "  **Role**: data scientist\n",
        "\n",
        "- **Name**: [Insert Name]  \n",
        "  **Email**: [Insert Email]  \n",
        "  **Role**: [Insert Role]\n",
        "\n",
        "- **Name**: [Insert Name]  \n",
        "  **Email**: [Insert Email]  \n",
        "  **Role**: [Insert Role]\n",
        "\n",
        "- **Name**: [Insert Name]  \n",
        "  **Email**: [Insert Email]  \n",
        "  **Role**: [Insert Role]\n",
        "\n",
        "- **Name**: [Insert Name]  \n",
        "  **Email**: [Insert Email]  \n",
        "  **Role**: [Insert Role]\n",
        "\n",
        "## Additional Information\n",
        "- **Organization**: egypt digital pioneer intiative\n",
        "- **Project Timeline**: [02/16/2025 - End Date]  \n",
        "- **Tools Used**: [pandas,matplotlib]\n",
        "- **Contact for Inquiries**: [saif.elsanafery@gmail.com]\n",
        "\n",
        "---"
      ]
    },
    {
      "cell_type": "code",
      "execution_count": 14,
      "metadata": {
        "id": "SOBLNY1wxl5F"
      },
      "outputs": [],
      "source": [
        "import pandas as pd\n",
        "import matplotlib.pyplot as plt\n",
        "import seaborn as sns\n",
        "import plotly.express as px\n",
        "import numpy as np"
      ]
    },
    {
      "cell_type": "markdown",
      "metadata": {
        "id": "Cs1xjrZcxl5G"
      },
      "source": [
        "# Milestone 1: Data Collection, Exploration, and Preprocessing"
      ]
    },
    {
      "cell_type": "markdown",
      "metadata": {
        "id": "8ZqNYBWBxl5H"
      },
      "source": [
        "## Data Collection\n",
        "- Acquire a dataset from reliable sources (e.g., Kaggle, UCI Repository, or APIs).\n",
        "- **Scraping Data**:\n",
        "  - Increase dataset size through web scraping or APIs (e.g., Selenium, BeautifulSoup).\n",
        "  - Explore public repositories or other accessible sources for additional data."
      ]
    },
    {
      "cell_type": "code",
      "execution_count": 15,
      "metadata": {
        "id": "FBdKV_dkxl5I",
        "outputId": "fb15565d-a97b-44c7-d299-a712b661d85b",
        "colab": {
          "base_uri": "https://localhost:8080/",
          "height": 373
        }
      },
      "outputs": [
        {
          "output_type": "error",
          "ename": "FileNotFoundError",
          "evalue": "[Errno 2] No such file or directory: 'E:\\\\AMIT\\\\project data\\\\heart_2020_cleaned2.csv'",
          "traceback": [
            "\u001b[0;31m---------------------------------------------------------------------------\u001b[0m",
            "\u001b[0;31mFileNotFoundError\u001b[0m                         Traceback (most recent call last)",
            "\u001b[0;32m<ipython-input-15-03d721211856>\u001b[0m in \u001b[0;36m<cell line: 0>\u001b[0;34m()\u001b[0m\n\u001b[1;32m      1\u001b[0m \u001b[0;31m# taking what i need from the data (300k)\u001b[0m\u001b[0;34m\u001b[0m\u001b[0;34m\u001b[0m\u001b[0m\n\u001b[0;32m----> 2\u001b[0;31m \u001b[0mdf\u001b[0m\u001b[0;34m=\u001b[0m\u001b[0mpd\u001b[0m\u001b[0;34m.\u001b[0m\u001b[0mread_csv\u001b[0m\u001b[0;34m(\u001b[0m\u001b[0;34m\"E:\\AMIT\\project data\\heart_2020_cleaned2.csv\"\u001b[0m\u001b[0;34m,\u001b[0m\u001b[0mindex_col\u001b[0m\u001b[0;34m=\u001b[0m\u001b[0;32mFalse\u001b[0m\u001b[0;34m)\u001b[0m\u001b[0;34m\u001b[0m\u001b[0;34m\u001b[0m\u001b[0m\n\u001b[0m\u001b[1;32m      3\u001b[0m \u001b[0mdf\u001b[0m\u001b[0;34m[\u001b[0m\u001b[0;34m'HeartDisease'\u001b[0m\u001b[0;34m]\u001b[0m\u001b[0;34m.\u001b[0m\u001b[0mvalue_counts\u001b[0m\u001b[0;34m(\u001b[0m\u001b[0;34m)\u001b[0m\u001b[0;34m\u001b[0m\u001b[0;34m\u001b[0m\u001b[0m\n\u001b[1;32m      4\u001b[0m \u001b[0mdf1\u001b[0m\u001b[0;34m=\u001b[0m\u001b[0mdf\u001b[0m\u001b[0;34m[\u001b[0m\u001b[0mdf\u001b[0m\u001b[0;34m[\u001b[0m\u001b[0;34m'HeartDisease'\u001b[0m\u001b[0;34m]\u001b[0m\u001b[0;34m==\u001b[0m\u001b[0;34m'Yes'\u001b[0m\u001b[0;34m]\u001b[0m\u001b[0;34m\u001b[0m\u001b[0;34m\u001b[0m\u001b[0m\n\u001b[1;32m      5\u001b[0m \u001b[0mdf1\u001b[0m\u001b[0;34m.\u001b[0m\u001b[0mvalue_counts\u001b[0m\u001b[0;34m(\u001b[0m\u001b[0;34m)\u001b[0m\u001b[0;34m\u001b[0m\u001b[0;34m\u001b[0m\u001b[0m\n",
            "\u001b[0;32m/usr/local/lib/python3.11/dist-packages/pandas/io/parsers/readers.py\u001b[0m in \u001b[0;36mread_csv\u001b[0;34m(filepath_or_buffer, sep, delimiter, header, names, index_col, usecols, dtype, engine, converters, true_values, false_values, skipinitialspace, skiprows, skipfooter, nrows, na_values, keep_default_na, na_filter, verbose, skip_blank_lines, parse_dates, infer_datetime_format, keep_date_col, date_parser, date_format, dayfirst, cache_dates, iterator, chunksize, compression, thousands, decimal, lineterminator, quotechar, quoting, doublequote, escapechar, comment, encoding, encoding_errors, dialect, on_bad_lines, delim_whitespace, low_memory, memory_map, float_precision, storage_options, dtype_backend)\u001b[0m\n\u001b[1;32m   1024\u001b[0m     \u001b[0mkwds\u001b[0m\u001b[0;34m.\u001b[0m\u001b[0mupdate\u001b[0m\u001b[0;34m(\u001b[0m\u001b[0mkwds_defaults\u001b[0m\u001b[0;34m)\u001b[0m\u001b[0;34m\u001b[0m\u001b[0;34m\u001b[0m\u001b[0m\n\u001b[1;32m   1025\u001b[0m \u001b[0;34m\u001b[0m\u001b[0m\n\u001b[0;32m-> 1026\u001b[0;31m     \u001b[0;32mreturn\u001b[0m \u001b[0m_read\u001b[0m\u001b[0;34m(\u001b[0m\u001b[0mfilepath_or_buffer\u001b[0m\u001b[0;34m,\u001b[0m \u001b[0mkwds\u001b[0m\u001b[0;34m)\u001b[0m\u001b[0;34m\u001b[0m\u001b[0;34m\u001b[0m\u001b[0m\n\u001b[0m\u001b[1;32m   1027\u001b[0m \u001b[0;34m\u001b[0m\u001b[0m\n\u001b[1;32m   1028\u001b[0m \u001b[0;34m\u001b[0m\u001b[0m\n",
            "\u001b[0;32m/usr/local/lib/python3.11/dist-packages/pandas/io/parsers/readers.py\u001b[0m in \u001b[0;36m_read\u001b[0;34m(filepath_or_buffer, kwds)\u001b[0m\n\u001b[1;32m    618\u001b[0m \u001b[0;34m\u001b[0m\u001b[0m\n\u001b[1;32m    619\u001b[0m     \u001b[0;31m# Create the parser.\u001b[0m\u001b[0;34m\u001b[0m\u001b[0;34m\u001b[0m\u001b[0m\n\u001b[0;32m--> 620\u001b[0;31m     \u001b[0mparser\u001b[0m \u001b[0;34m=\u001b[0m \u001b[0mTextFileReader\u001b[0m\u001b[0;34m(\u001b[0m\u001b[0mfilepath_or_buffer\u001b[0m\u001b[0;34m,\u001b[0m \u001b[0;34m**\u001b[0m\u001b[0mkwds\u001b[0m\u001b[0;34m)\u001b[0m\u001b[0;34m\u001b[0m\u001b[0;34m\u001b[0m\u001b[0m\n\u001b[0m\u001b[1;32m    621\u001b[0m \u001b[0;34m\u001b[0m\u001b[0m\n\u001b[1;32m    622\u001b[0m     \u001b[0;32mif\u001b[0m \u001b[0mchunksize\u001b[0m \u001b[0;32mor\u001b[0m \u001b[0miterator\u001b[0m\u001b[0;34m:\u001b[0m\u001b[0;34m\u001b[0m\u001b[0;34m\u001b[0m\u001b[0m\n",
            "\u001b[0;32m/usr/local/lib/python3.11/dist-packages/pandas/io/parsers/readers.py\u001b[0m in \u001b[0;36m__init__\u001b[0;34m(self, f, engine, **kwds)\u001b[0m\n\u001b[1;32m   1618\u001b[0m \u001b[0;34m\u001b[0m\u001b[0m\n\u001b[1;32m   1619\u001b[0m         \u001b[0mself\u001b[0m\u001b[0;34m.\u001b[0m\u001b[0mhandles\u001b[0m\u001b[0;34m:\u001b[0m \u001b[0mIOHandles\u001b[0m \u001b[0;34m|\u001b[0m \u001b[0;32mNone\u001b[0m \u001b[0;34m=\u001b[0m \u001b[0;32mNone\u001b[0m\u001b[0;34m\u001b[0m\u001b[0;34m\u001b[0m\u001b[0m\n\u001b[0;32m-> 1620\u001b[0;31m         \u001b[0mself\u001b[0m\u001b[0;34m.\u001b[0m\u001b[0m_engine\u001b[0m \u001b[0;34m=\u001b[0m \u001b[0mself\u001b[0m\u001b[0;34m.\u001b[0m\u001b[0m_make_engine\u001b[0m\u001b[0;34m(\u001b[0m\u001b[0mf\u001b[0m\u001b[0;34m,\u001b[0m \u001b[0mself\u001b[0m\u001b[0;34m.\u001b[0m\u001b[0mengine\u001b[0m\u001b[0;34m)\u001b[0m\u001b[0;34m\u001b[0m\u001b[0;34m\u001b[0m\u001b[0m\n\u001b[0m\u001b[1;32m   1621\u001b[0m \u001b[0;34m\u001b[0m\u001b[0m\n\u001b[1;32m   1622\u001b[0m     \u001b[0;32mdef\u001b[0m \u001b[0mclose\u001b[0m\u001b[0;34m(\u001b[0m\u001b[0mself\u001b[0m\u001b[0;34m)\u001b[0m \u001b[0;34m->\u001b[0m \u001b[0;32mNone\u001b[0m\u001b[0;34m:\u001b[0m\u001b[0;34m\u001b[0m\u001b[0;34m\u001b[0m\u001b[0m\n",
            "\u001b[0;32m/usr/local/lib/python3.11/dist-packages/pandas/io/parsers/readers.py\u001b[0m in \u001b[0;36m_make_engine\u001b[0;34m(self, f, engine)\u001b[0m\n\u001b[1;32m   1878\u001b[0m                 \u001b[0;32mif\u001b[0m \u001b[0;34m\"b\"\u001b[0m \u001b[0;32mnot\u001b[0m \u001b[0;32min\u001b[0m \u001b[0mmode\u001b[0m\u001b[0;34m:\u001b[0m\u001b[0;34m\u001b[0m\u001b[0;34m\u001b[0m\u001b[0m\n\u001b[1;32m   1879\u001b[0m                     \u001b[0mmode\u001b[0m \u001b[0;34m+=\u001b[0m \u001b[0;34m\"b\"\u001b[0m\u001b[0;34m\u001b[0m\u001b[0;34m\u001b[0m\u001b[0m\n\u001b[0;32m-> 1880\u001b[0;31m             self.handles = get_handle(\n\u001b[0m\u001b[1;32m   1881\u001b[0m                 \u001b[0mf\u001b[0m\u001b[0;34m,\u001b[0m\u001b[0;34m\u001b[0m\u001b[0;34m\u001b[0m\u001b[0m\n\u001b[1;32m   1882\u001b[0m                 \u001b[0mmode\u001b[0m\u001b[0;34m,\u001b[0m\u001b[0;34m\u001b[0m\u001b[0;34m\u001b[0m\u001b[0m\n",
            "\u001b[0;32m/usr/local/lib/python3.11/dist-packages/pandas/io/common.py\u001b[0m in \u001b[0;36mget_handle\u001b[0;34m(path_or_buf, mode, encoding, compression, memory_map, is_text, errors, storage_options)\u001b[0m\n\u001b[1;32m    871\u001b[0m         \u001b[0;32mif\u001b[0m \u001b[0mioargs\u001b[0m\u001b[0;34m.\u001b[0m\u001b[0mencoding\u001b[0m \u001b[0;32mand\u001b[0m \u001b[0;34m\"b\"\u001b[0m \u001b[0;32mnot\u001b[0m \u001b[0;32min\u001b[0m \u001b[0mioargs\u001b[0m\u001b[0;34m.\u001b[0m\u001b[0mmode\u001b[0m\u001b[0;34m:\u001b[0m\u001b[0;34m\u001b[0m\u001b[0;34m\u001b[0m\u001b[0m\n\u001b[1;32m    872\u001b[0m             \u001b[0;31m# Encoding\u001b[0m\u001b[0;34m\u001b[0m\u001b[0;34m\u001b[0m\u001b[0m\n\u001b[0;32m--> 873\u001b[0;31m             handle = open(\n\u001b[0m\u001b[1;32m    874\u001b[0m                 \u001b[0mhandle\u001b[0m\u001b[0;34m,\u001b[0m\u001b[0;34m\u001b[0m\u001b[0;34m\u001b[0m\u001b[0m\n\u001b[1;32m    875\u001b[0m                 \u001b[0mioargs\u001b[0m\u001b[0;34m.\u001b[0m\u001b[0mmode\u001b[0m\u001b[0;34m,\u001b[0m\u001b[0;34m\u001b[0m\u001b[0;34m\u001b[0m\u001b[0m\n",
            "\u001b[0;31mFileNotFoundError\u001b[0m: [Errno 2] No such file or directory: 'E:\\\\AMIT\\\\project data\\\\heart_2020_cleaned2.csv'"
          ]
        }
      ],
      "source": [
        "# taking what i need from the data (300k)\n",
        "df=pd.read_csv(\"E:\\AMIT\\project data\\heart_2020_cleaned2.csv\",index_col=False)\n",
        "df['HeartDisease'].value_counts()\n",
        "df1=df[df['HeartDisease']=='Yes']\n",
        "df1.value_counts()\n"
      ]
    },
    {
      "cell_type": "code",
      "execution_count": null,
      "metadata": {
        "id": "tcWPOPnaxl5J"
      },
      "outputs": [],
      "source": [
        "df.head()"
      ]
    },
    {
      "cell_type": "code",
      "execution_count": null,
      "metadata": {
        "id": "LtoAYTy5xl5K"
      },
      "outputs": [],
      "source": [
        "df2=df[df['HeartDisease']=='No']\n",
        "df2=df2.iloc[:40000]\n",
        "df2.info()"
      ]
    },
    {
      "cell_type": "code",
      "execution_count": null,
      "metadata": {
        "id": "PYhMaNcNxl5K"
      },
      "outputs": [],
      "source": [
        "full_data=pd.concat([df1,df2])\n",
        "full_data.info()\n",
        "full_data.head()"
      ]
    },
    {
      "cell_type": "code",
      "execution_count": null,
      "metadata": {
        "id": "JMi5zAqoxl5L"
      },
      "outputs": [],
      "source": [
        "full_data.head()"
      ]
    },
    {
      "cell_type": "code",
      "execution_count": null,
      "metadata": {
        "id": "TYPC8ZE4xl5L"
      },
      "outputs": [],
      "source": [
        "full_data.to_csv(\"1111.csv\")"
      ]
    },
    {
      "cell_type": "markdown",
      "metadata": {
        "id": "XIKXu9kJxl5L"
      },
      "source": [
        "## Dataset Description\n",
        "- Create a table to explain:\n",
        "\n",
        " Features Overview\n",
        "Target Variable:\n",
        "\n",
        "HeartDisease → (0 = No, 1 = Yes)\n",
        "\n",
        "Demographics:\n",
        "\n",
        "Sex → (0 = Female, 1 = Male)\n",
        "\n",
        "AgeCategory → Age group (Encoded values)\n",
        "\n",
        "Race → Ethnic background (Encoded values)\n",
        "\n",
        "Health Metrics:\n",
        "\n",
        "BMI → Body Mass Index\n",
        "\n",
        "PhysicalHealth → Number of days with poor physical health in the past 30 days\n",
        "\n",
        "MentalHealth → Number of days with poor mental health in the past 30 days\n",
        "\n",
        "SleepTime → Average sleep duration in hours\n",
        "\n",
        "Medical History:\n",
        "\n",
        "Stroke → History of stroke (0 = No, 1 = Yes)\n",
        "\n",
        "Diabetic → Diabetes status (0 = No, 1 = Yes)\n",
        "\n",
        "Asthma → Asthma diagnosis (0 = No, 1 = Yes)\n",
        "\n",
        "KidneyDisease → Chronic kidney disease (0 = No, 1 = Yes)\n",
        "\n",
        "SkinCancer → History of skin cancer (0 = No, 1 = Yes)\n",
        "\n",
        "Lifestyle Factors:\n",
        "\n",
        "Smoking → Smoker status (0 = No, 1 = Yes)\n",
        "\n",
        "AlcoholDrinking → Regular alcohol consumption (0 = No, 1 = Yes)\n",
        "\n",
        "PhysicalActivity → Engages in physical activity (0 = No, 1 = Yes)\n",
        "\n",
        "Mobility & General Health:\n",
        "\n",
        "DiffWalking → Difficulty walking or climbing stairs (0 = No, 1 = Yes)\n",
        "\n",
        "GenHealth → General health rating (Encoded values from poor to excellent)"
      ]
    },
    {
      "cell_type": "markdown",
      "metadata": {
        "id": "ugDKg8n0xl5M"
      },
      "source": [
        "## Data Exploration\n",
        "- Summary statistics (mean, median, variance).\n",
        "- Identify missing values, duplicates, and outliers.\n",
        "- Data distribution visualizations: histograms, box plots, scatter plots."
      ]
    },
    {
      "cell_type": "code",
      "execution_count": null,
      "metadata": {
        "id": "7wyYMy4exl5M"
      },
      "outputs": [],
      "source": [
        "full_data.info()\n",
        "full_data.describe()"
      ]
    },
    {
      "cell_type": "code",
      "execution_count": null,
      "metadata": {
        "id": "sr2xm4-qxl5M"
      },
      "outputs": [],
      "source": [
        "full_data['HeartDisease'].value_counts()"
      ]
    },
    {
      "cell_type": "code",
      "execution_count": null,
      "metadata": {
        "id": "MCEyNKocxl5N"
      },
      "outputs": [],
      "source": [
        "# encoding every yes , no to 1,0\n",
        "full_data=full_data.replace(\"No\",0)\n",
        "full_data=full_data.replace(\"Yes\",1)\n",
        "# encoding the diabetic feature\n",
        "full_data['Diabetic']=full_data['Diabetic'].replace(\"No, borderline diabetes\",0)\n",
        "full_data['Diabetic']=full_data['Diabetic'].replace(\"Yes (during pregnancy)\",1)\n",
        "\n",
        "# encoding the sex\n",
        "full_data['Sex']=full_data[\"Sex\"].replace(\"Male\",1)\n",
        "full_data['Sex']=full_data[\"Sex\"].replace(\"Female\",0)\n",
        "\n",
        "# encoding the races\n",
        "full_data['Race']=full_data[\"Race\"].replace(\"White\",0)\n",
        "full_data['Race']=full_data[\"Race\"].replace(\"Black\",1)\n",
        "full_data['Race']=full_data[\"Race\"].replace(\"Asian\",2)\n",
        "full_data['Race']=full_data[\"Race\"].replace(\"American Indian/Alaskan Native\",3)\n",
        "full_data['Race']=full_data[\"Race\"].replace(\"Hispanic\",4)\n",
        "full_data['Race']=full_data[\"Race\"].replace(\"Other\",5)\n",
        "\n",
        "\n",
        "full_data.head(20)"
      ]
    },
    {
      "cell_type": "code",
      "execution_count": null,
      "metadata": {
        "id": "P4w-wDu0xl5N"
      },
      "outputs": [],
      "source": [
        "# encoding the general health\n",
        "encoding = {'Poor': 0, 'Fair': 1, 'Good': 2, 'Very good': 3, 'Excellent': 4}\n",
        "full_data['GenHealth']=full_data['GenHealth'].map(encoding).astype(int)"
      ]
    },
    {
      "cell_type": "code",
      "execution_count": null,
      "metadata": {
        "id": "HVoCjU5-xl5N"
      },
      "outputs": [],
      "source": [
        "# encoding the age categories\n",
        "age_encoding = {\n",
        "        '18-24': 0, '25-29': 1, '30-34': 2, '35-39': 3, '40-44': 4,\n",
        "        '45-49': 5, '50-54': 6, '55-59': 7, '60-64': 8, '65-69': 9,\n",
        "        '70-74': 10, '75-79': 11, '80 or older': 12\n",
        "    }\n",
        "full_data['AgeCategory']=full_data['AgeCategory'].map(age_encoding).astype(int)\n"
      ]
    },
    {
      "cell_type": "code",
      "execution_count": null,
      "metadata": {
        "id": "cOoMDkR1xl5O"
      },
      "outputs": [],
      "source": [
        "full_data.head()"
      ]
    },
    {
      "cell_type": "code",
      "execution_count": null,
      "metadata": {
        "id": "Lx0dq69qxl5O"
      },
      "outputs": [],
      "source": [
        "# droping the duplicates\n",
        "full_data.duplicated().sum()\n",
        "full_data=full_data.drop_duplicates()"
      ]
    },
    {
      "cell_type": "code",
      "execution_count": null,
      "metadata": {
        "id": "2aZtyx0Dxl5O"
      },
      "outputs": [],
      "source": [
        "counter = full_data['BMI'].value_counts()\n",
        "q1 = np.percentile(full_data['BMI'],25)\n",
        "q3 = np.percentile(full_data['BMI'],75)\n",
        "iqr = q3 - q1\n",
        "lower_bound = q1 - 1.5 * iqr\n",
        "upper_bound = q3 + 1.5 * iqr\n",
        "plt.axvline(lower_bound, color='red', linestyle='--', label=f'Lower Cutoff ({lower_bound:.1f})')\n",
        "plt.axvline(upper_bound, color='green', linestyle='--', label=f'Upper Cutoff ({upper_bound:.1f})')\n",
        "plt.text(lower_bound, 1.05, f'{lower_bound:.1f}', color='red', ha='center')\n",
        "plt.text(upper_bound, 1.05, f'{upper_bound:.1f}', color='green', ha='center')\n",
        "plt.boxplot(full_data['BMI'],whis=1.5,vert=False)"
      ]
    },
    {
      "cell_type": "code",
      "execution_count": null,
      "metadata": {
        "id": "eKsa7hGUxl5P"
      },
      "outputs": [],
      "source": [
        "full_data=full_data[(full_data['BMI']>=12.9 ) & (full_data['BMI']<= 43.1)]"
      ]
    },
    {
      "cell_type": "code",
      "execution_count": null,
      "metadata": {
        "id": "nRrNrdZfxl5P"
      },
      "outputs": [],
      "source": [
        "counter = full_data['SleepTime'].value_counts()\n",
        "q1 = np.percentile(full_data['SleepTime'],25)\n",
        "q3 = np.percentile(full_data['SleepTime'],75)\n",
        "iqr = q3 - q1\n",
        "lower_bound = q1 - 1.5 * iqr\n",
        "upper_bound = q3 + 1.5 * iqr\n",
        "plt.axvline(lower_bound, color='red', linestyle='--', label=f'Lower Cutoff ({lower_bound:.1f})')\n",
        "plt.axvline(upper_bound, color='green', linestyle='--', label=f'Upper Cutoff ({upper_bound:.1f})')\n",
        "plt.text(lower_bound, 1.05, f'{lower_bound:.1f}', color='red', ha='center')\n",
        "plt.text(upper_bound, 1.05, f'{upper_bound:.1f}', color='green', ha='center')\n",
        "plt.boxplot(full_data['SleepTime'],whis=1.5,vert=False)"
      ]
    },
    {
      "cell_type": "code",
      "execution_count": null,
      "metadata": {
        "id": "eas-lHXRxl5P"
      },
      "outputs": [],
      "source": [
        "full_data=full_data[(full_data['SleepTime']>=3 ) & (full_data['SleepTime']<= 11)]"
      ]
    },
    {
      "cell_type": "code",
      "execution_count": null,
      "metadata": {
        "id": "jmYRLyLpxl5P"
      },
      "outputs": [],
      "source": [
        "\n",
        "plt.boxplot(full_data['SleepTime'],whis=1.5,vert=False)"
      ]
    },
    {
      "cell_type": "code",
      "execution_count": null,
      "metadata": {
        "id": "xKdXKx6Zxl5P"
      },
      "outputs": [],
      "source": [
        "full_data.describe()"
      ]
    },
    {
      "cell_type": "code",
      "execution_count": null,
      "metadata": {
        "id": "e8O4-xpRxl5Q"
      },
      "outputs": [],
      "source": [
        "full_data.info()\n",
        "full_data.head(20)"
      ]
    },
    {
      "cell_type": "code",
      "execution_count": null,
      "metadata": {
        "id": "PBvkPKW0xl5Q"
      },
      "outputs": [],
      "source": [
        "full_data.to_csv(\"i_hope_it_work.csv\")"
      ]
    },
    {
      "cell_type": "markdown",
      "metadata": {
        "id": "XI-UcuMdxl5Q"
      },
      "source": [
        "# Milestone 2: Advanced Data Analysis and Feature Engineering"
      ]
    },
    {
      "cell_type": "markdown",
      "metadata": {
        "id": "pHIbH2fGxl5R"
      },
      "source": [
        "## Feature Engineering\n",
        "- Create derived features based on domain knowledge.\n",
        "- Apply transformations such as normalization, log scaling, or polynomial features."
      ]
    },
    {
      "cell_type": "code",
      "execution_count": null,
      "metadata": {
        "id": "vui8SMvkxl5R"
      },
      "outputs": [],
      "source": [
        "# devide the BMI into some secions\n",
        "def classify_bmi(bmi):\n",
        "    if bmi < 18.5:\n",
        "        return \"Underweight\"\n",
        "    elif 18.5 <= bmi < 25:\n",
        "        return \"Normal\"\n",
        "    elif 25 <= bmi < 30:\n",
        "        return \"Overweight\"\n",
        "\n",
        "\n",
        "full_data[\"BMI\"].apply(classify_bmi)\n",
        "\n"
      ]
    },
    {
      "cell_type": "code",
      "execution_count": 16,
      "metadata": {
        "id": "LYwjDyzKxl5R",
        "outputId": "6182fec9-7c7e-48bb-e100-509c2b605160",
        "colab": {
          "base_uri": "https://localhost:8080/",
          "height": 159
        }
      },
      "outputs": [
        {
          "output_type": "error",
          "ename": "NameError",
          "evalue": "name 'full_data' is not defined",
          "traceback": [
            "\u001b[0;31m---------------------------------------------------------------------------\u001b[0m",
            "\u001b[0;31mNameError\u001b[0m                                 Traceback (most recent call last)",
            "\u001b[0;32m<ipython-input-16-f8f9e0e43cc1>\u001b[0m in \u001b[0;36m<cell line: 0>\u001b[0;34m()\u001b[0m\n\u001b[1;32m      1\u001b[0m \u001b[0;31m# over all Health Burden Score\u001b[0m\u001b[0;34m\u001b[0m\u001b[0;34m\u001b[0m\u001b[0m\n\u001b[0;32m----> 2\u001b[0;31m \u001b[0mfull_data\u001b[0m\u001b[0;34m[\u001b[0m\u001b[0;34m\"PhysicalHealth\"\u001b[0m\u001b[0;34m]\u001b[0m \u001b[0;34m+\u001b[0m \u001b[0mfull_data\u001b[0m\u001b[0;34m[\u001b[0m\u001b[0;34m\"MentalHealth\"\u001b[0m\u001b[0;34m]\u001b[0m\u001b[0;34m\u001b[0m\u001b[0;34m\u001b[0m\u001b[0m\n\u001b[0m",
            "\u001b[0;31mNameError\u001b[0m: name 'full_data' is not defined"
          ]
        }
      ],
      "source": [
        "# over all Health Burden Score\n",
        "full_data[\"PhysicalHealth\"] + full_data[\"MentalHealth\"]"
      ]
    },
    {
      "cell_type": "code",
      "execution_count": null,
      "metadata": {
        "id": "-TBbZHThxl5S"
      },
      "outputs": [],
      "source": [
        "def sleep_deviation(sleep_time):\n",
        "    if sleep_time < 6 :\n",
        "        return \"too little sleep\"\n",
        "    elif sleep_time > 9:\n",
        "        return \"too much sleep\"\n",
        "    else:\n",
        "        return \"good sleep\"\n",
        "full_data[\"SleepTime\"].apply(sleep_deviation)"
      ]
    },
    {
      "cell_type": "code",
      "execution_count": null,
      "metadata": {
        "id": "Al2SS7h1xl5S"
      },
      "outputs": [],
      "source": [
        "full_data.head()"
      ]
    },
    {
      "cell_type": "markdown",
      "metadata": {
        "id": "FTnKG3MPxl5T"
      },
      "source": [
        "## Data Visualization\n",
        "- Generate insightful visualizations:\n",
        "  - Correlation heatmaps, pair plots.\n",
        "  - Trends and comparisons using bar charts, line charts, and dashboards."
      ]
    },
    {
      "cell_type": "code",
      "execution_count": null,
      "metadata": {
        "id": "6qeLcXuPxl5T"
      },
      "outputs": [],
      "source": [
        "import plotly.graph_objects as go\n",
        "\n",
        "\n",
        "full_data['Sex'] = full_data['Sex'].map({0: 'Female', 1: 'Male'})\n",
        "\n",
        "heart_disease_rate = full_data.groupby([\"Sex\"])[\"HeartDisease\"].mean().reset_index()\n",
        "\n",
        "fig = px.bar(heart_disease_rate,\n",
        "             x=\"Sex\",\n",
        "             y=\"HeartDisease\",\n",
        "             color=\"Sex\",\n",
        "             title=\"Heart Disease Rate by Gender\",\n",
        "             labels={\"HeartDisease\": \"Heart Disease Rate\", \"Sex\": \"Gender\"},\n",
        "             color_discrete_map={\"Female\": \"#FF9999\", \"Male\": \"#66B2FF\"},\n",
        "             text=heart_disease_rate[\"HeartDisease\"].apply(lambda x: f\"{x*100:.1f}%\"),\n",
        "             )\n",
        "\n",
        "\n",
        "fig.update_traces(textposition='auto')\n",
        "fig.update_layout(\n",
        "    yaxis_title=\"Heart Disease Rate (%)\",\n",
        "    xaxis_title=\"Gender\",\n",
        "    title_x=0.5,\n",
        "    yaxis_tickformat=\".0%\",\n",
        "    showlegend=True,\n",
        "    bargap=0.2,\n",
        "    plot_bgcolor=\"white\",\n",
        "    font=dict(size=14),\n",
        ")\n",
        "\n",
        "fig.update_traces(hovertemplate=\"Gender: %{x}<br>Heart Disease Rate: %{y:.1%}\")\n",
        "\n",
        "fig.show()"
      ]
    },
    {
      "cell_type": "code",
      "execution_count": null,
      "metadata": {
        "id": "6zdQ0AvUxl5T"
      },
      "outputs": [],
      "source": [
        "fig = px.histogram(full_data, x='AgeCategory', color='HeartDisease', barmode='overlay',\n",
        "                   title=\"Age vs heart disease Disease\",\n",
        "                   labels={'age': 'Age', 'cardio': 'Cardiovascular Disease'})\n",
        "fig.update_layout(bargap=0.1)\n",
        "fig.show()"
      ]
    },
    {
      "cell_type": "code",
      "execution_count": null,
      "metadata": {
        "id": "wGxxy-oyxl5T"
      },
      "outputs": [],
      "source": [
        "fig = px.scatter(full_data, x='BMI', y='AgeCategory', color='HeartDisease',\n",
        "                 title=\"BMI vs Age and Cardiovascular Disease\",\n",
        "                 labels={'BMI': 'Body Mass Index', 'age': 'Age', 'cardio': 'Cardiovascular Disease'},\n",
        "                 size_max=10, opacity=0.6)\n",
        "fig.show()"
      ]
    },
    {
      "cell_type": "code",
      "execution_count": null,
      "metadata": {
        "id": "EXcLStDtxl5T"
      },
      "outputs": [],
      "source": [
        "fig = px.histogram(full_data, x='AlcoholDrinking', color='HeartDisease',\n",
        "                   title=\"Impact of Alcohol Drinking on Heart Disease\",\n",
        "                   labels={'AlcoholDrinking': 'Alcohol Drinking', 'count': 'Count'},\n",
        "                   barmode='group',\n",
        "                   color_discrete_sequence=px.colors.sequential.RdBu)\n",
        "\n",
        "fig.show()"
      ]
    },
    {
      "cell_type": "code",
      "execution_count": null,
      "metadata": {
        "id": "sCOyl3U2xl5V"
      },
      "outputs": [],
      "source": [
        "fig = px.histogram(full_data, x=\"Smoking\", color=\"HeartDisease\", barmode=\"group\",\n",
        "                    title=\"Smoking Rate Among Heart Disease Patients\",\n",
        "                    color_discrete_sequence=[\"#FF4500\", \"#32CD32\"],\n",
        "                    labels={\"Smoking\": \"Smoking\", \"HeartDisease\": \"Heart Disease\"})\n",
        "fig.show()"
      ]
    },
    {
      "cell_type": "code",
      "execution_count": null,
      "metadata": {
        "id": "KWbbwsBaxl5V"
      },
      "outputs": [],
      "source": [
        "fig = px.bar(np.around(full_data.groupby(\"PhysicalActivity\")[\"HeartDisease\"].mean().reset_index(),2),\n",
        "              x=\"PhysicalActivity\", y=\"HeartDisease\",\n",
        "              title=\"Heart Disease Rate Based on Physical Activity\",\n",
        "              text_auto=True,\n",
        "              color=\"PhysicalActivity\",\n",
        "              color_discrete_sequence=px.colors.qualitative.Pastel)\n",
        "fig.show()"
      ]
    },
    {
      "cell_type": "code",
      "execution_count": null,
      "metadata": {
        "id": "IhheT7ohxl5V"
      },
      "outputs": [],
      "source": [
        "fig = px.strip(full_data, x=\"GenHealth\", y=\"SleepTime\", color=\"GenHealth\",\n",
        "                title=\"General Health vs Sleep Time\",\n",
        "                color_discrete_sequence=px.colors.qualitative.Set1,\n",
        "                labels={\"GenHealth\": \"General Health\", \"SleepTime\": \"Sleep Hours\"})\n",
        "fig.show()"
      ]
    },
    {
      "cell_type": "code",
      "execution_count": null,
      "metadata": {
        "id": "KCFrQieQxl5W"
      },
      "outputs": [],
      "source": [
        "fig = px.histogram(full_data, x=\"GenHealth\", color=\"HeartDisease\", barmode=\"group\",\n",
        "                    title=\"General Health Distribution Among Heart Disease Patients\",\n",
        "                    color_discrete_sequence=[\"#FF33FF\", \"#33CFFF\"],\n",
        "                    labels={\"GenHealth\": \"General Health\", \"HeartDisease\": \"Heart Disease\"})\n",
        "fig.show()"
      ]
    },
    {
      "cell_type": "code",
      "execution_count": 17,
      "metadata": {
        "id": "UspDQ8cixl5W",
        "outputId": "c652830a-9bdf-4192-a84f-517ab19e4f80",
        "colab": {
          "base_uri": "https://localhost:8080/",
          "height": 193
        }
      },
      "outputs": [
        {
          "output_type": "error",
          "ename": "NameError",
          "evalue": "name 'full_data' is not defined",
          "traceback": [
            "\u001b[0;31m---------------------------------------------------------------------------\u001b[0m",
            "\u001b[0;31mNameError\u001b[0m                                 Traceback (most recent call last)",
            "\u001b[0;32m<ipython-input-17-2b71260bd4ed>\u001b[0m in \u001b[0;36m<cell line: 0>\u001b[0;34m()\u001b[0m\n\u001b[0;32m----> 1\u001b[0;31m \u001b[0mfull_data\u001b[0m\u001b[0;34m.\u001b[0m\u001b[0mhist\u001b[0m\u001b[0;34m(\u001b[0m\u001b[0mfigsize\u001b[0m\u001b[0;34m=\u001b[0m\u001b[0;34m(\u001b[0m\u001b[0;36m15\u001b[0m\u001b[0;34m,\u001b[0m \u001b[0;36m12\u001b[0m\u001b[0;34m)\u001b[0m\u001b[0;34m,\u001b[0m \u001b[0mbins\u001b[0m\u001b[0;34m=\u001b[0m\u001b[0;36m20\u001b[0m\u001b[0;34m,\u001b[0m \u001b[0mcolor\u001b[0m\u001b[0;34m=\u001b[0m\u001b[0;34m'#1f77b4'\u001b[0m\u001b[0;34m,\u001b[0m \u001b[0medgecolor\u001b[0m\u001b[0;34m=\u001b[0m\u001b[0;34m'black'\u001b[0m\u001b[0;34m)\u001b[0m\u001b[0;34m\u001b[0m\u001b[0;34m\u001b[0m\u001b[0m\n\u001b[0m\u001b[1;32m      2\u001b[0m \u001b[0mplt\u001b[0m\u001b[0;34m.\u001b[0m\u001b[0msuptitle\u001b[0m\u001b[0;34m(\u001b[0m\u001b[0;34m'Feature Distributions'\u001b[0m\u001b[0;34m,\u001b[0m \u001b[0mfontsize\u001b[0m\u001b[0;34m=\u001b[0m\u001b[0;36m16\u001b[0m\u001b[0;34m)\u001b[0m\u001b[0;34m\u001b[0m\u001b[0;34m\u001b[0m\u001b[0m\n\u001b[1;32m      3\u001b[0m \u001b[0mplt\u001b[0m\u001b[0;34m.\u001b[0m\u001b[0mtight_layout\u001b[0m\u001b[0;34m(\u001b[0m\u001b[0;34m)\u001b[0m\u001b[0;34m\u001b[0m\u001b[0;34m\u001b[0m\u001b[0m\n\u001b[1;32m      4\u001b[0m \u001b[0mplt\u001b[0m\u001b[0;34m.\u001b[0m\u001b[0mshow\u001b[0m\u001b[0;34m(\u001b[0m\u001b[0;34m)\u001b[0m\u001b[0;34m\u001b[0m\u001b[0;34m\u001b[0m\u001b[0m\n",
            "\u001b[0;31mNameError\u001b[0m: name 'full_data' is not defined"
          ]
        }
      ],
      "source": [
        "full_data.hist(figsize=(15, 12), bins=20, color='#1f77b4', edgecolor='black')\n",
        "plt.suptitle('Feature Distributions', fontsize=16)\n",
        "plt.tight_layout()\n",
        "plt.show()"
      ]
    },
    {
      "cell_type": "markdown",
      "metadata": {
        "id": "BnhSvRQFxl5W"
      },
      "source": [
        "\n",
        "---\n"
      ]
    },
    {
      "cell_type": "markdown",
      "metadata": {
        "id": "ON0O_aqMxl5W"
      },
      "source": [
        "# Milestone 3: Machine Learning Model Development and Optimization"
      ]
    },
    {
      "cell_type": "code",
      "execution_count": null,
      "metadata": {
        "id": "7pr-kipyxl5X"
      },
      "outputs": [],
      "source": [
        "import numpy as np\n",
        "import matplotlib.pyplot as plt\n",
        "import seaborn as sns\n",
        "import pandas as pd"
      ]
    },
    {
      "cell_type": "markdown",
      "metadata": {
        "id": "s4uz5JMjxl5X"
      },
      "source": [
        "## Model Training\n",
        "- Split data into training, validation, and testing sets.\n",
        "- Address imbalances using techniques like SMOTE or stratified sampling."
      ]
    },
    {
      "cell_type": "code",
      "execution_count": null,
      "metadata": {
        "id": "cLlfIOnDxl5X"
      },
      "outputs": [],
      "source": [
        "df= pd.read_csv(\"E:\\AMIT\\Health-Care-predictive-model\\i_hope_it_work.csv\")\n",
        "df.tail()"
      ]
    },
    {
      "cell_type": "code",
      "execution_count": null,
      "metadata": {
        "id": "e8MaAwhmxl5Y"
      },
      "outputs": [],
      "source": [
        "df = df.loc[:, ~df.columns.str.contains('^Unnamed')]"
      ]
    },
    {
      "cell_type": "code",
      "execution_count": null,
      "metadata": {
        "id": "fHagb-qIxl5Y"
      },
      "outputs": [],
      "source": [
        "df.tail()"
      ]
    },
    {
      "cell_type": "code",
      "execution_count": null,
      "metadata": {
        "id": "QRmWl8Zgxl5Y"
      },
      "outputs": [],
      "source": [
        "heart_disease_counts = df[\"HeartDisease\"].value_counts()\n",
        "print(heart_disease_counts)"
      ]
    },
    {
      "cell_type": "code",
      "execution_count": null,
      "metadata": {
        "id": "e7DH3xp9xl5Z"
      },
      "outputs": [],
      "source": [
        "from sklearn.model_selection import train_test_split\n",
        "import pandas as pd\n",
        "\n",
        "# Separate data into two groups: Heart Disease (1) and Non-Heart Disease (0)\n",
        "heart_disease = df[df['HeartDisease'] == 1]\n",
        "non_heart_disease = df[df['HeartDisease'] == 0]\n",
        "\n",
        "# Split each group separately (70% train, 30% test)\n",
        "X_heart_train, X_heart_test, y_heart_train, y_heart_test = train_test_split(\n",
        "    heart_disease.drop(columns=['HeartDisease']), heart_disease['HeartDisease'], test_size=0.3, random_state=42)\n",
        "\n",
        "X_non_heart_train, X_non_heart_test, y_non_heart_train, y_non_heart_test = train_test_split(\n",
        "    non_heart_disease.drop(columns=['HeartDisease']), non_heart_disease['HeartDisease'], test_size=0.3, random_state=42)\n",
        "\n",
        "# Combine the separate train and test sets\n",
        "X_train = pd.concat([X_heart_train, X_non_heart_train], axis=0)\n",
        "y_train = pd.concat([y_heart_train, y_non_heart_train], axis=0)\n",
        "\n",
        "X_test = pd.concat([X_heart_test, X_non_heart_test], axis=0)\n",
        "y_test = pd.concat([y_heart_test, y_non_heart_test], axis=0)\n",
        "\n",
        "# Print class distribution after splitting\n",
        "print(\"Train set distribution:\\n\", y_train.value_counts())\n",
        "print(\"\\nTest set distribution:\\n\", y_test.value_counts())\n",
        "\n",
        "# Print shapes\n",
        "print(\"\\nX_train Shape:\", X_train.shape, \"y_train Shape:\", y_train.shape)\n",
        "print(\"X_test Shape:\", X_test.shape, \"y_test Shape:\", y_test.shape)"
      ]
    },
    {
      "cell_type": "code",
      "execution_count": null,
      "metadata": {
        "id": "HUHyKE6Jxl5Z"
      },
      "outputs": [],
      "source": [
        "from imblearn.over_sampling import SMOTE\n",
        "smote = SMOTE(random_state=42)\n",
        "X_train_smote, y_train_smote = smote.fit_resample(X_train, y_train)\n",
        "\n",
        "print(\"After SMOTE:\")\n",
        "print(y_train_smote.value_counts())"
      ]
    },
    {
      "cell_type": "code",
      "execution_count": null,
      "metadata": {
        "id": "K7rlSh8Dxl5Z"
      },
      "outputs": [],
      "source": [
        "from sklearn.ensemble import RandomForestClassifier\n",
        "from sklearn.metrics import accuracy_score, classification_report\n",
        "from xgboost import XGBClassifier\n",
        "from sklearn.metrics import classification_report, accuracy_score, confusion_matrix\n",
        "xgb = XGBClassifier(use_label_encoder=False, eval_metric='logloss', random_state=42)\n",
        "xgb.fit(X_train_smote, y_train_smote)\n",
        "\n",
        "y_pred = xgb.predict(X_test)\n",
        "\n"
      ]
    },
    {
      "cell_type": "markdown",
      "metadata": {
        "id": "vnzv3izgxl5a"
      },
      "source": [
        "## Model Evaluation\n",
        "- Metrics to consider: Accuracy, Precision, Recall, F1-score, RMSE, etc.\n",
        "- Visual tools: Confusion matrices, ROC curves."
      ]
    },
    {
      "cell_type": "code",
      "execution_count": null,
      "metadata": {
        "id": "QfQWuDDAxl5a"
      },
      "outputs": [],
      "source": [
        "print(\"Accuracy:\", accuracy_score(y_test, y_pred))\n",
        "print(classification_report(y_test, y_pred))\n",
        "\n",
        "# Confusion matrix\n",
        "cm = confusion_matrix(y_test, y_pred)\n",
        "sns.heatmap(cm, annot=True, fmt='d', cmap='Blues',\n",
        "            xticklabels=['No Disease', 'Heart Disease'],\n",
        "            yticklabels=['No Disease', 'Heart Disease'])\n",
        "plt.xlabel(\"Predicted\")\n",
        "plt.ylabel(\"Actual\")\n",
        "plt.title(\"Confusion Matrix\")\n",
        "plt.show()"
      ]
    },
    {
      "cell_type": "markdown",
      "metadata": {
        "id": "-pxiTdRQxl5b"
      },
      "source": [
        "## Model Comparison\n",
        "- Compare multiple models and justify the final model selection."
      ]
    },
    {
      "cell_type": "code",
      "execution_count": null,
      "metadata": {
        "id": "H3XI8zfVxl5b"
      },
      "outputs": [],
      "source": []
    },
    {
      "cell_type": "markdown",
      "metadata": {
        "id": "0GvCs2Bwxl5b"
      },
      "source": [
        "\n",
        "---\n"
      ]
    },
    {
      "cell_type": "markdown",
      "metadata": {
        "id": "UiBPj9kqxl5b"
      },
      "source": [
        "# Milestone 4: Deployment and Monitoring"
      ]
    },
    {
      "cell_type": "markdown",
      "metadata": {
        "id": "edLM4hB8xl5c"
      },
      "source": [
        "## Deployment\n",
        "- Deploy the model as a REST API (Flask, FastAPI) or interactive dashboards (Streamlit, Dash).\n",
        "- Host on cloud platforms (AWS, Azure, GCP) or local servers."
      ]
    },
    {
      "cell_type": "code",
      "execution_count": null,
      "metadata": {
        "id": "3Z6XxH8Xxl5c"
      },
      "outputs": [],
      "source": []
    },
    {
      "cell_type": "markdown",
      "metadata": {
        "id": "7GZfyLxsxl5c"
      },
      "source": [
        "## Monitoring\n",
        "- Set up performance tracking and alert systems for issues.\n",
        "- Monitor metrics for potential model drift or anomalies."
      ]
    },
    {
      "cell_type": "code",
      "execution_count": null,
      "metadata": {
        "id": "izOFfSLlxl5c"
      },
      "outputs": [],
      "source": []
    },
    {
      "cell_type": "markdown",
      "metadata": {
        "id": "NgllBf0Oxl5d"
      },
      "source": [
        "## Retraining Strategy\n",
        "- Plan for periodic retraining with new or updated data."
      ]
    },
    {
      "cell_type": "code",
      "execution_count": null,
      "metadata": {
        "id": "UfUhr6WJxl5d"
      },
      "outputs": [],
      "source": []
    },
    {
      "cell_type": "markdown",
      "metadata": {
        "id": "Y3ggGYa2xl5d"
      },
      "source": [
        "\n",
        "---\n"
      ]
    },
    {
      "cell_type": "markdown",
      "metadata": {
        "id": "78eX35pgxl5d"
      },
      "source": [
        "# Milestone 5: Final Documentation and Presentation"
      ]
    },
    {
      "cell_type": "markdown",
      "metadata": {
        "id": "sFJEJ4HAxl5e"
      },
      "source": [
        "## Final Report\n",
        "- Summarize all project phases, including methodologies and insights.\n",
        "- Provide actionable recommendations based on findings."
      ]
    },
    {
      "cell_type": "markdown",
      "metadata": {
        "id": "UO9neWI4xl5e"
      },
      "source": []
    },
    {
      "cell_type": "markdown",
      "metadata": {
        "id": "oJ6C_hNKxl5e"
      },
      "source": [
        "## Final Presentation\n",
        "- Create a presentation for stakeholders, highlighting key results.\n",
        "- Include a demo of the deployed application or model."
      ]
    },
    {
      "cell_type": "markdown",
      "metadata": {
        "id": "RVfQoGYLxl5e"
      },
      "source": []
    },
    {
      "cell_type": "markdown",
      "metadata": {
        "id": "er_RLVXuxl5e"
      },
      "source": [
        "## Future Improvements\n",
        "- Suggest areas for enhancement:\n",
        "  - Incorporating more diverse data.\n",
        "  - Experimenting with additional algorithms.\n",
        "  - Optimizing deployment for scalability."
      ]
    },
    {
      "cell_type": "markdown",
      "metadata": {
        "id": "seuyJ1UAxl5f"
      },
      "source": []
    },
    {
      "cell_type": "markdown",
      "metadata": {
        "id": "ed3FTuW7xl5f"
      },
      "source": [
        "---"
      ]
    },
    {
      "cell_type": "markdown",
      "metadata": {
        "id": "nPdG0HPwxl5f"
      },
      "source": [
        "# Additional Sections"
      ]
    },
    {
      "cell_type": "markdown",
      "metadata": {
        "id": "wJzrx6DRxl5f"
      },
      "source": [
        "## Challenges Faced\n",
        "- Document key challenges encountered during the project lifecycle."
      ]
    },
    {
      "cell_type": "markdown",
      "metadata": {
        "id": "zBkDo7C7xl5f"
      },
      "source": []
    },
    {
      "cell_type": "markdown",
      "metadata": {
        "id": "ErgPXle-xl5f"
      },
      "source": [
        "## Lessons Learned\n",
        "- Reflect on insights and skills gained through the project."
      ]
    },
    {
      "cell_type": "markdown",
      "metadata": {
        "id": "H3BWUSADxl5g"
      },
      "source": []
    },
    {
      "cell_type": "markdown",
      "metadata": {
        "id": "ynR7d2Yhxl5g"
      },
      "source": [
        "## References\n",
        "- List resources for datasets, tools, and techniques utilized."
      ]
    },
    {
      "cell_type": "markdown",
      "metadata": {
        "id": "VCjiJ7TMxl5g"
      },
      "source": []
    },
    {
      "cell_type": "markdown",
      "metadata": {
        "id": "UB2CD_I6xl5g"
      },
      "source": [
        "---"
      ]
    },
    {
      "cell_type": "markdown",
      "metadata": {
        "id": "BXslgfcExl5g"
      },
      "source": [
        "# More Sections for Specific Projects"
      ]
    },
    {
      "cell_type": "markdown",
      "metadata": {
        "id": "zjp-g3dKxl5g"
      },
      "source": [
        "## Ethical Considerations\n",
        "- Discuss privacy, fairness, or other ethical implications."
      ]
    },
    {
      "cell_type": "markdown",
      "metadata": {
        "id": "T9q26cuPxl5h"
      },
      "source": []
    },
    {
      "cell_type": "markdown",
      "metadata": {
        "id": "_hlRZLeDxl5h"
      },
      "source": [
        "## Business Impact\n",
        "- Highlight how the findings address the original objective."
      ]
    },
    {
      "cell_type": "markdown",
      "metadata": {
        "id": "7WsgC-smxl5h"
      },
      "source": []
    },
    {
      "cell_type": "markdown",
      "metadata": {
        "id": "ut7Fva6qxl5h"
      },
      "source": [
        "## Team Contributions\n",
        "- Acknowledge contributions from team members and collaborators."
      ]
    },
    {
      "cell_type": "markdown",
      "metadata": {
        "id": "2CUewXvuxl5h"
      },
      "source": []
    },
    {
      "cell_type": "markdown",
      "metadata": {
        "id": "iPdLNS_hxl5h"
      },
      "source": [
        "\n",
        "---\n"
      ]
    }
  ],
  "metadata": {
    "kernelspec": {
      "display_name": "depi_env",
      "language": "python",
      "name": "python3"
    },
    "language_info": {
      "codemirror_mode": {
        "name": "ipython",
        "version": 3
      },
      "file_extension": ".py",
      "mimetype": "text/x-python",
      "name": "python",
      "nbconvert_exporter": "python",
      "pygments_lexer": "ipython3",
      "version": "3.10.15"
    },
    "colab": {
      "provenance": [],
      "include_colab_link": true
    }
  },
  "nbformat": 4,
  "nbformat_minor": 0
}